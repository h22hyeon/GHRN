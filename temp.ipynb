{
 "cells": [
  {
   "cell_type": "code",
   "execution_count": 1,
   "metadata": {},
   "outputs": [],
   "source": [
    "import os\n",
    "import numpy as np"
   ]
  },
  {
   "cell_type": "code",
   "execution_count": 3,
   "metadata": {},
   "outputs": [],
   "source": [
    "def print_log(model, data):\n",
    "        dir_path = f\"./{model}/{data}\"\n",
    "        test_log_list = [dir_name for dir_name in os.listdir(dir_path) if \"test\" in dir_name]\n",
    "\n",
    "        auc_list = []\n",
    "        f1_mac_list = []\n",
    "        for test_log in test_log_list:\n",
    "                log_file = open(os.path.join(dir_path, test_log), 'r')\n",
    "                lines = log_file.readlines()\n",
    "                \n",
    "                auc_roc = float(lines[-3].split(\"AUC-ROC: \")[1][:7])\n",
    "                f1_mac = float(lines[-2].split(\"F1-macro: \")[1][:7])\n",
    "                \n",
    "                auc_list.append(auc_roc)\n",
    "                f1_mac_list.append(f1_mac)\n",
    "        auc_list = np.array(auc_list)\n",
    "        f1_mac_list = np.array(f1_mac_list)\n",
    "        print(f\"[{model} - {data}]\")\n",
    "        print(\"AUC-ROC:  {:.4f}±{:.4f}\".format(auc_list.mean(), auc_list.std()))\n",
    "        print(\"F1-macro: {:.4f}±{:.4f}\\n\".format(f1_mac_list.mean(), f1_mac_list.std()))"
   ]
  },
  {
   "cell_type": "code",
   "execution_count": 6,
   "metadata": {},
   "outputs": [
    {
     "name": "stdout",
     "output_type": "stream",
     "text": [
      "[BWGNN(homo) - amazon]\n",
      "AUC-ROC:  0.9728±0.0060\n",
      "F1-macro: 0.8819±0.0200\n",
      "\n",
      "[BWGNN(hetero) - amazon]\n",
      "AUC-ROC:  0.9749±0.0043\n",
      "F1-macro: 0.8776±0.0105\n",
      "\n",
      "[Bhomo-GHRN - amazon]\n",
      "AUC-ROC:  0.9726±0.0063\n",
      "F1-macro: 0.8820±0.0139\n",
      "\n",
      "[Bhetero-GHRN - amazon]\n",
      "AUC-ROC:  0.9710±0.0041\n",
      "F1-macro: 0.8694±0.0125\n",
      "\n"
     ]
    }
   ],
   "source": [
    "print_log('BWGNN(homo)','amazon')\n",
    "print_log('BWGNN(hetero)','amazon')\n",
    "print_log('Bhomo-GHRN','amazon')\n",
    "print_log('Bhetero-GHRN','amazon')"
   ]
  },
  {
   "cell_type": "code",
   "execution_count": 7,
   "metadata": {},
   "outputs": [
    {
     "name": "stdout",
     "output_type": "stream",
     "text": [
      "[BWGNN(homo) - yelp]\n",
      "AUC-ROC:  0.8591±0.0087\n",
      "F1-macro: 0.7014±0.0135\n",
      "\n",
      "[BWGNN(hetero) - yelp]\n",
      "AUC-ROC:  0.9232±0.0065\n",
      "F1-macro: 0.7777±0.0085\n",
      "\n",
      "[Bhomo-GHRN - yelp]\n",
      "AUC-ROC:  0.8653±0.0072\n",
      "F1-macro: 0.6996±0.0131\n",
      "\n",
      "[Bhetero-GHRN - yelp]\n",
      "AUC-ROC:  0.9247±0.0050\n",
      "F1-macro: 0.7466±0.0137\n",
      "\n"
     ]
    }
   ],
   "source": [
    "print_log('BWGNN(homo)','yelp')\n",
    "print_log('BWGNN(hetero)','yelp')\n",
    "print_log('Bhomo-GHRN','yelp')\n",
    "print_log('Bhetero-GHRN','yelp')"
   ]
  },
  {
   "cell_type": "code",
   "execution_count": null,
   "metadata": {},
   "outputs": [],
   "source": []
  }
 ],
 "metadata": {
  "kernelspec": {
   "display_name": "fraud",
   "language": "python",
   "name": "python3"
  },
  "language_info": {
   "codemirror_mode": {
    "name": "ipython",
    "version": 3
   },
   "file_extension": ".py",
   "mimetype": "text/x-python",
   "name": "python",
   "nbconvert_exporter": "python",
   "pygments_lexer": "ipython3",
   "version": "3.9.16"
  },
  "orig_nbformat": 4
 },
 "nbformat": 4,
 "nbformat_minor": 2
}
