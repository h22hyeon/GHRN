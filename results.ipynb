{
 "cells": [
  {
   "cell_type": "code",
   "execution_count": 17,
   "metadata": {},
   "outputs": [],
   "source": [
    "from itertools import product\n",
    "import os\n",
    "\n",
    "import numpy as np"
   ]
  },
  {
   "cell_type": "code",
   "execution_count": 20,
   "metadata": {},
   "outputs": [
    {
     "name": "stdout",
     "output_type": "stream",
     "text": [
      "('BWGNN(homo)', 'amazon', '0.4')\n",
      "AUC-ROC: 0.9724±0.0048\n",
      "F1-macro: 0.8812±0.0190\n",
      "\n",
      "('BWGNN(homo)', 'amazon', '0.01')\n",
      "AUC-ROC: 0.9146±0.0272\n",
      "F1-macro: 0.8651±0.0559\n",
      "\n",
      "('BWGNN(homo)', 'yelp', '0.4')\n",
      "AUC-ROC: 0.8568±0.0063\n",
      "F1-macro: 0.7005±0.0153\n",
      "\n",
      "('BWGNN(homo)', 'yelp', '0.01')\n",
      "AUC-ROC: 0.7157±0.0146\n",
      "F1-macro: 0.5723±0.0346\n",
      "\n",
      "('BWGNN(hetero)', 'amazon', '0.4')\n",
      "AUC-ROC: 0.9744±0.0041\n",
      "F1-macro: 0.8741±0.0123\n",
      "\n",
      "('BWGNN(hetero)', 'amazon', '0.01')\n",
      "AUC-ROC: 0.8623±0.0326\n",
      "F1-macro: 0.7938±0.0601\n",
      "\n",
      "('BWGNN(hetero)', 'yelp', '0.4')\n",
      "AUC-ROC: 0.9229±0.0041\n",
      "F1-macro: 0.7698±0.0064\n",
      "\n",
      "('BWGNN(hetero)', 'yelp', '0.01')\n",
      "AUC-ROC: 0.7906±0.0118\n",
      "F1-macro: 0.6518±0.0182\n",
      "\n",
      "('BHomo-GHRN', 'amazon', '0.4')\n",
      "AUC-ROC: 0.9724±0.0035\n",
      "F1-macro: 0.8817±0.0298\n",
      "\n",
      "('BHomo-GHRN', 'amazon', '0.01')\n",
      "AUC-ROC: 0.9131±0.0249\n",
      "F1-macro: 0.8537±0.0481\n",
      "\n",
      "('BHomo-GHRN', 'yelp', '0.4')\n",
      "AUC-ROC: 0.8573±0.0049\n",
      "F1-macro: 0.6963±0.0132\n",
      "\n",
      "('BHomo-GHRN', 'yelp', '0.01')\n",
      "AUC-ROC: 0.7097±0.0194\n",
      "F1-macro: 0.5853±0.0154\n",
      "\n",
      "('BHetero-GHRN', 'amazon', '0.4')\n",
      "AUC-ROC: 0.9716±0.0034\n",
      "F1-macro: 0.8707±0.0193\n",
      "\n",
      "('BHetero-GHRN', 'amazon', '0.01')\n",
      "AUC-ROC: 0.8592±0.0600\n",
      "F1-macro: 0.7704±0.0985\n",
      "\n",
      "('BHetero-GHRN', 'yelp', '0.4')\n",
      "AUC-ROC: 0.9310±0.0054\n",
      "F1-macro: 0.7787±0.0164\n",
      "\n",
      "('BHetero-GHRN', 'yelp', '0.01')\n",
      "AUC-ROC: 0.7735±0.0265\n",
      "F1-macro: 0.6268±0.0290\n",
      "\n"
     ]
    }
   ],
   "source": [
    "dir_name_l = ['BWGNN(homo)', 'BWGNN(hetero)', 'BHomo-GHRN', 'BHetero-GHRN']\n",
    "dataset_l = ['amazon', 'yelp']\n",
    "train_l = ['0.4', '0.01']\n",
    "seed_l = [2, 3, 5, 7, 11, 13, 17, 19, 23, 29]\n",
    "\n",
    "for tup in product(dir_name_l, dataset_l, train_l):\n",
    "        f1_macro_l = []\n",
    "        auc_l = []\n",
    "        dir_name, dataset, train_ratio = tup\n",
    "        print(tup)\n",
    "        \n",
    "        for seed in seed_l:\n",
    "                log_path = os.path.join(dir_name, dataset, f\"test({str(seed).zfill(2)}_{train_ratio}).log\")\n",
    "                with open(log_path, 'r') as f:\n",
    "                        lines = f.readlines()\n",
    "                f1_macro_l.append(float(lines[-2].split('F1-macro: ')[1].split('-')[0].strip()))\n",
    "                auc_l.append(float(lines[-3].split('AUC-ROC: ')[1].strip()))\n",
    "        \n",
    "        print(f\"AUC-ROC: {np.mean(auc_l):.4f}±{np.std(auc_l):.4f}\")\n",
    "        print(f\"F1-macro: {np.mean(f1_macro_l):.4f}±{np.std(f1_macro_l):.4f}\\n\")\n"
   ]
  }
 ],
 "metadata": {
  "kernelspec": {
   "display_name": "FDS2",
   "language": "python",
   "name": "python3"
  },
  "language_info": {
   "codemirror_mode": {
    "name": "ipython",
    "version": 3
   },
   "file_extension": ".py",
   "mimetype": "text/x-python",
   "name": "python",
   "nbconvert_exporter": "python",
   "pygments_lexer": "ipython3",
   "version": "3.8.16"
  },
  "orig_nbformat": 4
 },
 "nbformat": 4,
 "nbformat_minor": 2
}
