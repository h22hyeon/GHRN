{
 "cells": [
  {
   "cell_type": "code",
   "execution_count": 4,
   "metadata": {},
   "outputs": [],
   "source": [
    "import json\n",
    "import pickle\n",
    "import itertools\n",
    "\n",
    "import os\n",
    "import pandas as pd\n",
    "import argparse"
   ]
  },
  {
   "cell_type": "code",
   "execution_count": 5,
   "metadata": {},
   "outputs": [],
   "source": [
    "seed_l = [2, 3, 5, 7, 11, 13, 17, 19, 23, 29]\n",
    "data_name_l = [\"yelp\", \"amazon_new\"]\n",
    "homo_l = [0, 1]\n",
    "train_ratio_l = [0.01, 0.05, 0.1, 0.4]\n",
    "TEST_RATIO = 0.67\n",
    "EMB_SIZE = 64\n",
    "LR = 0.01\n",
    "EPOCHS = 1000\n",
    "VALID_EPOCHS = 10\n",
    "PATIENCE = 100"
   ]
  },
  {
   "cell_type": "code",
   "execution_count": 6,
   "metadata": {},
   "outputs": [],
   "source": [
    "for seed in seed_l:\n",
    "        dir_path = f'./exp_config_BWGNN_grid_{seed}'\n",
    "        os.makedirs(dir_path, exist_ok=True)\n",
    "        count = 0\n",
    "        for params in itertools.product(train_ratio_l, data_name_l, homo_l):\n",
    "                train_ratio, data_name, homo = params\n",
    "                args = argparse.Namespace(\n",
    "                        seed = seed,\n",
    "                        train_ratio = train_ratio,\n",
    "                        hid_dim = EMB_SIZE,\n",
    "                        epoch = EPOCHS,\n",
    "                        dataset = data_name,\n",
    "                        valid_epochs = VALID_EPOCHS,\n",
    "                        run = 1,\n",
    "                        adj_type = 'sym',\n",
    "                        patience = PATIENCE,\n",
    "                        data_path = \"None\",\n",
    "                        del_ratio = 0,\n",
    "                        load_epoch = 0,\n",
    "                        order = 2,\n",
    "                        homo = homo,\n",
    "                        lr = LR,\n",
    "                        weight_decay = 0,\n",
    "                        cuda_id = 0,\n",
    "                        exp_num = str(count).zfill(4)\n",
    "                )\n",
    "                \n",
    "                args = vars(args)\n",
    "                save_path = os.path.join(dir_path, str(count).zfill(4)+\".json\")\n",
    "                with open(save_path, 'w') as f:\n",
    "                        json.dump(args, f, indent=3)\n",
    "                count += 1"
   ]
  },
  {
   "cell_type": "code",
   "execution_count": null,
   "metadata": {},
   "outputs": [],
   "source": []
  }
 ],
 "metadata": {
  "kernelspec": {
   "display_name": "FDS",
   "language": "python",
   "name": "python3"
  },
  "language_info": {
   "codemirror_mode": {
    "name": "ipython",
    "version": 3
   },
   "file_extension": ".py",
   "mimetype": "text/x-python",
   "name": "python",
   "nbconvert_exporter": "python",
   "pygments_lexer": "ipython3",
   "version": "3.8.16"
  },
  "orig_nbformat": 4
 },
 "nbformat": 4,
 "nbformat_minor": 2
}
