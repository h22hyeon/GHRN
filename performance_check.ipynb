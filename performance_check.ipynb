{
 "cells": [
  {
   "cell_type": "code",
   "execution_count": 1,
   "metadata": {},
   "outputs": [],
   "source": [
    "import os\n",
    "import numpy as np"
   ]
  },
  {
   "attachments": {},
   "cell_type": "markdown",
   "metadata": {},
   "source": [
    "# BWGNN (Homo)"
   ]
  },
  {
   "cell_type": "code",
   "execution_count": 2,
   "metadata": {},
   "outputs": [],
   "source": [
    "dir_path = \"./BWGNN\"\n",
    "model_l = [\"homo\", \"hetero\"]\n",
    "dataset_l = [\"amazon_new\", 'yelp']\n",
    "seed_l = [2, 3, 5, 7, 11, 13, 17, 19, 23, 27, 29]"
   ]
  },
  {
   "cell_type": "code",
   "execution_count": 3,
   "metadata": {},
   "outputs": [
    {
     "name": "stdout",
     "output_type": "stream",
     "text": [
      "amazon_new - homo - Supervised (40%)\n",
      "AUC-ROC: 0.9700±0.0046\n",
      "F1-macro: 0.8891±0.0142\n",
      "complete=True, count=10\n",
      "\n",
      "amazon_new - homo - Semi-Supervised(1%)\n",
      "AUC-ROC: 0.9102±0.0233\n",
      "F1-macro: 0.8650±0.0615\n",
      "complete=True, count=10\n",
      "\n",
      "amazon_new - homo - Semi-Supervised (10%)\n",
      "AUC-ROC: 0.9419±0.0117\n",
      "F1-macro: 0.8857±0.0147\n",
      "complete=True, count=10\n",
      "\n",
      "amazon_new - hetero - Supervised (40%)\n",
      "AUC-ROC: 0.9692±0.0067\n",
      "F1-macro: 0.8791±0.0191\n",
      "complete=True, count=10\n",
      "\n",
      "amazon_new - hetero - Semi-Supervised(1%)\n",
      "AUC-ROC: 0.8759±0.0327\n",
      "F1-macro: 0.8024±0.0847\n",
      "complete=True, count=10\n",
      "\n",
      "amazon_new - hetero - Semi-Supervised (10%)\n",
      "AUC-ROC: 0.9458±0.0066\n",
      "F1-macro: 0.8680±0.0175\n",
      "complete=True, count=10\n",
      "\n",
      "yelp - homo - Supervised (40%)\n",
      "AUC-ROC: 0.8515±0.0103\n",
      "F1-macro: 0.6425±0.0604\n",
      "complete=True, count=10\n",
      "\n",
      "yelp - homo - Semi-Supervised(1%)\n",
      "AUC-ROC: 0.7016±0.0213\n",
      "F1-macro: 0.5797±0.0183\n",
      "complete=True, count=10\n",
      "\n",
      "yelp - homo - Semi-Supervised (10%)\n",
      "AUC-ROC: 0.7772±0.0173\n",
      "F1-macro: 0.6316±0.0280\n",
      "complete=True, count=10\n",
      "\n",
      "yelp - hetero - Supervised (40%)\n",
      "AUC-ROC: 0.9026±0.0105\n",
      "F1-macro: 0.7176±0.0705\n",
      "complete=True, count=10\n",
      "\n",
      "yelp - hetero - Semi-Supervised(1%)\n",
      "AUC-ROC: 0.7764±0.0196\n",
      "F1-macro: 0.6558±0.0118\n",
      "complete=True, count=10\n",
      "\n",
      "yelp - hetero - Semi-Supervised (10%)\n",
      "AUC-ROC: 0.8455±0.0146\n",
      "F1-macro: 0.7137±0.0197\n",
      "complete=True, count=10\n",
      "\n"
     ]
    }
   ],
   "source": [
    "for dataset in dataset_l:\n",
    "        for model in model_l:\n",
    "                        dir_path = f\"./BWGNN({model})/{dataset}\"\n",
    "                        log_paths = [os.path.join(dir_path, log_file) for log_file in os.listdir(dir_path) if \"test\" in log_file]\n",
    "\n",
    "                        auc_l = [[], [], []]\n",
    "                        f1_mac_l = [[], [], []]\n",
    "                        \n",
    "                        for log_path in log_paths:\n",
    "                                file = open(log_path, 'r')\n",
    "                                lines = file.readlines()\n",
    "                                seed = int(lines[-9].split(\"-->   \")[1])\n",
    "                                if (len(lines) < 23) or (seed not in seed_l):\n",
    "                                        continue\n",
    "                                auc = float(lines[-3].split(\"AUC-ROC: \")[1][:6])\n",
    "                                f1_mac = float(lines[-2].split(\"F1-macro: \")[1][:6])\n",
    "                                train_ratio = float(lines[-8].split(\"-->   \")[1])\n",
    "                                if train_ratio == 0.4:\n",
    "                                        auc_l[0].append(auc)\n",
    "                                        f1_mac_l[0].append(f1_mac)\n",
    "                                elif train_ratio == 0.01:\n",
    "                                        auc_l[1].append(auc)\n",
    "                                        f1_mac_l[1].append(f1_mac)\n",
    "                                elif train_ratio == 0.1:\n",
    "                                        auc_l[2].append(auc)\n",
    "                                        f1_mac_l[2].append(f1_mac)\n",
    "\n",
    "                        auc_l = np.array(auc_l)\n",
    "                        f1_mac_l = np.array(f1_mac_l)\n",
    "\n",
    "                        print(f\"{dataset} - {model} - Supervised (40%)\")\n",
    "                        print(\"AUC-ROC: {:.4f}±{:.4f}\".format(auc_l[0].mean(),auc_l[0].std()))\n",
    "                        print(\"F1-macro: {:.4f}±{:.4f}\".format(f1_mac_l[0].mean(),f1_mac_l[0].std()))\n",
    "                        print(\"complete={}, count={}\\n\".format(auc_l[0].shape[0]==10, auc_l[0].shape[0]))\n",
    "                        \n",
    "                        print(f\"{dataset} - {model} - Semi-Supervised(1%)\")\n",
    "                        print(\"AUC-ROC: {:.4f}±{:.4f}\".format(auc_l[1].mean(),auc_l[1].std()))\n",
    "                        print(\"F1-macro: {:.4f}±{:.4f}\".format(f1_mac_l[1].mean(),f1_mac_l[1].std()))\n",
    "                        print(\"complete={}, count={}\\n\".format(auc_l[1].shape[0]==10, auc_l[1].shape[0]))     \n",
    "                        \n",
    "                        print(f\"{dataset} - {model} - Semi-Supervised (10%)\")\n",
    "                        print(\"AUC-ROC: {:.4f}±{:.4f}\".format(auc_l[2].mean(),auc_l[2].std()))\n",
    "                        print(\"F1-macro: {:.4f}±{:.4f}\".format(f1_mac_l[2].mean(),f1_mac_l[2].std()))\n",
    "                        print(\"complete={}, count={}\\n\".format(auc_l[2].shape[0]==10, auc_l[2].shape[0]))                "
   ]
  },
  {
   "cell_type": "code",
   "execution_count": null,
   "metadata": {},
   "outputs": [],
   "source": []
  }
 ],
 "metadata": {
  "kernelspec": {
   "display_name": "FDS",
   "language": "python",
   "name": "python3"
  },
  "language_info": {
   "codemirror_mode": {
    "name": "ipython",
    "version": 3
   },
   "file_extension": ".py",
   "mimetype": "text/x-python",
   "name": "python",
   "nbconvert_exporter": "python",
   "pygments_lexer": "ipython3",
   "version": "3.8.16"
  },
  "orig_nbformat": 4
 },
 "nbformat": 4,
 "nbformat_minor": 2
}
